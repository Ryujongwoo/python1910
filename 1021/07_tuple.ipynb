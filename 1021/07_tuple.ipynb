{
 "cells": [
  {
   "cell_type": "markdown",
   "metadata": {},
   "source": [
    "# tuple 만들기  \n",
    "tuple은 list와 거의 비슷하지만 list는 []로 둘러싸고 tuple은 ()로 둘러싼다는 것과 list는 값을 수정, 삭제가 가능하지만 tuple은 불가능하다는 점이 다르다."
   ]
  },
  {
   "cell_type": "code",
   "execution_count": 1,
   "metadata": {
    "scrolled": true
   },
   "outputs": [
    {
     "name": "stdout",
     "output_type": "stream",
     "text": [
      "()\n",
      "(1,)\n",
      "(1, 2)\n",
      "(1, 2, 3)\n",
      "(1, 2, 3, 4)\n",
      "('a', 'b', ('ab', 'cd'))\n",
      "()\n",
      "a\n"
     ]
    }
   ],
   "source": [
    "t1 = () # 빈 튜플 만들기\n",
    "print(t1)\n",
    "# 1개의 데이터만 가지는 튜플을 만들어야 하는 경우 반드시 ','를 찍어야 한다.\n",
    "t2 = (1,)\n",
    "print(t2)\n",
    "t3 = (1, 2)\n",
    "print(t3)\n",
    "t4 = (1, 2, 3)\n",
    "print(t4)\n",
    "# 튜플은 ()를 생략해도 변수 하나에 ','로 구분해서 여러개의 데이터를 넣으면 튜플이 된다.\n",
    "t5 = 1, 2, 3, 4 # () 생략\n",
    "print(t5)\n",
    "t6 = ('a', 'b', ('ab', 'cd'))\n",
    "print(t6)\n",
    "t7 = tuple() # 생성자를 사용해 빈 튜플을 만들 수 있다.\n",
    "print(t7)\n",
    "print(t6[0])\n",
    "# t6[0] = 'z' # 튜플의 값을 수정하려 했으므로 에러가 발생된다.\n",
    "# del t6[0] # 튜플의 값을 삭제하려 했으므로 에러가 발생된다."
   ]
  },
  {
   "cell_type": "markdown",
   "metadata": {},
   "source": [
    "# 리스트와 같이 인덱싱과 슬라이싱이 가능하다."
   ]
  },
  {
   "cell_type": "code",
   "execution_count": 12,
   "metadata": {},
   "outputs": [
    {
     "name": "stdout",
     "output_type": "stream",
     "text": [
      "a\n",
      "('ab', 'cd')\n",
      "cd\n",
      "('a', 'b')\n",
      "('a', 'b')\n",
      "('b', ('ab', 'cd'))\n",
      "(1, 2, 3, 4, 'a', 'b', ('ab', 'cd'))\n",
      "(1, 2, 3, 4, 1, 2, 3, 4, 1, 2, 3, 4)\n",
      "3\n"
     ]
    }
   ],
   "source": [
    "# 인덱싱\n",
    "print(t6[0])\n",
    "print(t6[2])\n",
    "print(t6[2][1])\n",
    "# 슬라이싱\n",
    "print(t6[0:2])\n",
    "print(t6[:2])\n",
    "print(t6[1:])\n",
    "# 덧셈\n",
    "print(t5 + t6)\n",
    "# 곱셈\n",
    "print(t5 * 3)\n",
    "# 튜플에 저장된 데이터의 개수\n",
    "print(len(t6))"
   ]
  },
  {
   "cell_type": "code",
   "execution_count": null,
   "metadata": {},
   "outputs": [],
   "source": []
  }
 ],
 "metadata": {
  "kernelspec": {
   "display_name": "Python 3",
   "language": "python",
   "name": "python3"
  },
  "language_info": {
   "codemirror_mode": {
    "name": "ipython",
    "version": 3
   },
   "file_extension": ".py",
   "mimetype": "text/x-python",
   "name": "python",
   "nbconvert_exporter": "python",
   "pygments_lexer": "ipython3",
   "version": "3.6.8"
  }
 },
 "nbformat": 4,
 "nbformat_minor": 2
}
