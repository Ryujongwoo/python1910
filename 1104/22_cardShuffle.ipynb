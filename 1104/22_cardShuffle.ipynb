{
 "cells": [
  {
   "cell_type": "code",
   "execution_count": 1,
   "metadata": {
    "scrolled": true
   },
   "outputs": [
    {
     "name": "stdout",
     "output_type": "stream",
     "text": [
      "♠ A ♠ 2 ♠ 3 ♠ 4 ♠ 5 ♠ 6 ♠ 7 ♠ 8 ♠ 9 ♠10 ♠ J ♠ Q ♠ K \n",
      "◇ A ◇ 2 ◇ 3 ◇ 4 ◇ 5 ◇ 6 ◇ 7 ◇ 8 ◇ 9 ◇10 ◇ J ◇ Q ◇ K \n",
      "♥ A ♥ 2 ♥ 3 ♥ 4 ♥ 5 ♥ 6 ♥ 7 ♥ 8 ♥ 9 ♥10 ♥ J ♥ Q ♥ K \n",
      "♧ A ♧ 2 ♧ 3 ♧ 4 ♧ 5 ♧ 6 ♧ 7 ♧ 8 ♧ 9 ♧10 ♧ J ♧ Q ♧ K \n",
      "====================== 섞기전 ======================\n",
      "◇10 ♧10 ♥ 7 ♧ 2 ♠ 7 ♥ J ♧ 9 ♠ 5 ◇ K ♥ 2 ♥ 4 ♥ K ♧ 4 \n",
      "◇ 2 ◇ 5 ♧ J ♧ 6 ♥ 6 ◇ Q ♠ 2 ♠ K ◇ 8 ♧ A ♥ 9 ♥ 5 ♧ Q \n",
      "◇ 6 ♥ Q ♥ 8 ♥ 3 ♥10 ♠10 ♧ 3 ♠ 6 ◇ J ♧ 5 ♥ A ♠ 9 ♠ Q \n",
      "♧ 7 ◇ 4 ◇ 7 ♠ 4 ◇ A ♠ J ♧ K ♠ 3 ♠ A ♧ 8 ♠ 8 ◇ 3 ◇ 9 \n",
      "====================== 섞은후 ======================\n"
     ]
    }
   ],
   "source": [
    "# 카드 섞기\n",
    "from random import randrange\n",
    "\n",
    "def cardPrint():\n",
    "    for i in range(52):\n",
    "        print('%s%2s' % (symbol[cards[i] // 13], number[cards[i] % 13]), end = ' ')\n",
    "        if (i + 1) % 13 == 0:\n",
    "            print()\n",
    "\n",
    "# 카드 출력에 사용할 숫자와 무늬를 기억하는 각각의 리스트를 만든다.\n",
    "number = ['A', '2', '3', '4', '5', '6', '7', '8', '9', '10', 'J', 'Q', 'K']\n",
    "symbol = ['♠', '◇', '♥', '♧']\n",
    "\n",
    "# 빈 리스트를 만들어 카드로 사용할 숫자(0 ~ 51)를 리스트에 저장한다.\n",
    "'''\n",
    "cards = []\n",
    "for i in range(52):\n",
    "    cards.append(i)\n",
    "'''\n",
    "# 반복문을 사용해서 0 ~ 51이 저장된 리스트를 만든다.\n",
    "cards = [i for i in range(52)]\n",
    "# print(cards)\n",
    "\n",
    "# cards 리스트에 저장된 데이터를 1줄에 13개씩 출력한다.\n",
    "'''\n",
    "for i in range(52):\n",
    "    # print('%2s' % number[cards[i] % 13], end = ' ') # 숫자만\n",
    "    # print('%s' % symbol[cards[i] // 13], end = ' ') # 무늬만\n",
    "    print('%s%2s' % (symbol[cards[i] // 13], number[cards[i] % 13]), end = ' ')\n",
    "    if (i + 1) % 13 == 0:\n",
    "        print()\n",
    "'''\n",
    "cardPrint()\n",
    "print('====================== 섞기전 ======================')\n",
    "\n",
    "# 섞는다.\n",
    "for i in range(1000000):\n",
    "    r = randrange(1, 52)\n",
    "    cards[0], cards[r] = cards[r], cards[0]\n",
    "\n",
    "'''\n",
    "for i in range(52):\n",
    "    print('%s%2s' % (symbol[cards[i] // 13], number[cards[i] % 13]), end = ' ')\n",
    "    if (i + 1) % 13 == 0:\n",
    "        print()\n",
    "'''\n",
    "cardPrint()\n",
    "print('====================== 섞은후 ======================')"
   ]
  }
 ],
 "metadata": {
  "kernelspec": {
   "display_name": "Python 3",
   "language": "python",
   "name": "python3"
  },
  "language_info": {
   "codemirror_mode": {
    "name": "ipython",
    "version": 3
   },
   "file_extension": ".py",
   "mimetype": "text/x-python",
   "name": "python",
   "nbconvert_exporter": "python",
   "pygments_lexer": "ipython3",
   "version": "3.6.8"
  }
 },
 "nbformat": 4,
 "nbformat_minor": 2
}
